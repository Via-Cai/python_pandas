{
 "cells": [
  {
   "cell_type": "code",
   "execution_count": 2,
   "id": "2f90473b",
   "metadata": {},
   "outputs": [],
   "source": [
    "import numpy as np\n",
    "import pandas as pd"
   ]
  },
  {
   "cell_type": "code",
   "execution_count": 3,
   "id": "07618cfe",
   "metadata": {},
   "outputs": [
    {
     "data": {
      "application/vnd.microsoft.datawrangler.viewer.v0+json": {
       "columns": [
        {
         "name": "index",
         "rawType": "int64",
         "type": "integer"
        },
        {
         "name": "ProductKey",
         "rawType": "int64",
         "type": "integer"
        },
        {
         "name": "product",
         "rawType": "object",
         "type": "string"
        },
        {
         "name": "product_subcategory",
         "rawType": "object",
         "type": "string"
        },
        {
         "name": "OrderDateKey",
         "rawType": "int64",
         "type": "integer"
        },
        {
         "name": "CalendarYear",
         "rawType": "int64",
         "type": "integer"
        },
        {
         "name": "SalesTerritoryRegion",
         "rawType": "object",
         "type": "string"
        },
        {
         "name": "SalesTerritoryCountry",
         "rawType": "object",
         "type": "string"
        },
        {
         "name": "SalesOrderNumber",
         "rawType": "object",
         "type": "string"
        },
        {
         "name": "SalesAmount",
         "rawType": "float64",
         "type": "float"
        },
        {
         "name": "TaxAmt",
         "rawType": "float64",
         "type": "float"
        },
        {
         "name": "Freight",
         "rawType": "float64",
         "type": "float"
        }
       ],
       "ref": "29a8aa60-4778-4263-8cde-1973978807a5",
       "rows": [
        [
         "0",
         "310",
         "Road-150 Red, 62",
         "Road Bikes",
         "20101229",
         "2010",
         "Canada",
         "Canada",
         "SO43697",
         "3578.27",
         "286.2616",
         "89.4568"
        ],
        [
         "1",
         "346",
         "Mountain-100 Silver, 44",
         "Mountain Bikes",
         "20101229",
         "2010",
         "France",
         "France",
         "SO43698",
         "3399.99",
         "271.9992",
         "84.9998"
        ],
        [
         "2",
         "346",
         "Mountain-100 Silver, 44",
         "Mountain Bikes",
         "20101229",
         "2010",
         "Northwest",
         "United States",
         "SO43699",
         "3399.99",
         "271.9992",
         "84.9998"
        ],
        [
         "3",
         "336",
         "Road-650 Black, 62",
         "Road Bikes",
         "20101229",
         "2010",
         "Southwest",
         "United States",
         "SO43700",
         "699.0982",
         "55.9279",
         "17.4775"
        ],
        [
         "4",
         "346",
         "Mountain-100 Silver, 44",
         "Mountain Bikes",
         "20101229",
         "2010",
         "Australia",
         "Australia",
         "SO43701",
         "3399.99",
         "271.9992",
         "84.9998"
        ]
       ],
       "shape": {
        "columns": 11,
        "rows": 5
       }
      },
      "text/html": [
       "<div>\n",
       "<style scoped>\n",
       "    .dataframe tbody tr th:only-of-type {\n",
       "        vertical-align: middle;\n",
       "    }\n",
       "\n",
       "    .dataframe tbody tr th {\n",
       "        vertical-align: top;\n",
       "    }\n",
       "\n",
       "    .dataframe thead th {\n",
       "        text-align: right;\n",
       "    }\n",
       "</style>\n",
       "<table border=\"1\" class=\"dataframe\">\n",
       "  <thead>\n",
       "    <tr style=\"text-align: right;\">\n",
       "      <th></th>\n",
       "      <th>ProductKey</th>\n",
       "      <th>product</th>\n",
       "      <th>product_subcategory</th>\n",
       "      <th>OrderDateKey</th>\n",
       "      <th>CalendarYear</th>\n",
       "      <th>SalesTerritoryRegion</th>\n",
       "      <th>SalesTerritoryCountry</th>\n",
       "      <th>SalesOrderNumber</th>\n",
       "      <th>SalesAmount</th>\n",
       "      <th>TaxAmt</th>\n",
       "      <th>Freight</th>\n",
       "    </tr>\n",
       "  </thead>\n",
       "  <tbody>\n",
       "    <tr>\n",
       "      <th>0</th>\n",
       "      <td>310</td>\n",
       "      <td>Road-150 Red, 62</td>\n",
       "      <td>Road Bikes</td>\n",
       "      <td>20101229</td>\n",
       "      <td>2010</td>\n",
       "      <td>Canada</td>\n",
       "      <td>Canada</td>\n",
       "      <td>SO43697</td>\n",
       "      <td>3578.2700</td>\n",
       "      <td>286.2616</td>\n",
       "      <td>89.4568</td>\n",
       "    </tr>\n",
       "    <tr>\n",
       "      <th>1</th>\n",
       "      <td>346</td>\n",
       "      <td>Mountain-100 Silver, 44</td>\n",
       "      <td>Mountain Bikes</td>\n",
       "      <td>20101229</td>\n",
       "      <td>2010</td>\n",
       "      <td>France</td>\n",
       "      <td>France</td>\n",
       "      <td>SO43698</td>\n",
       "      <td>3399.9900</td>\n",
       "      <td>271.9992</td>\n",
       "      <td>84.9998</td>\n",
       "    </tr>\n",
       "    <tr>\n",
       "      <th>2</th>\n",
       "      <td>346</td>\n",
       "      <td>Mountain-100 Silver, 44</td>\n",
       "      <td>Mountain Bikes</td>\n",
       "      <td>20101229</td>\n",
       "      <td>2010</td>\n",
       "      <td>Northwest</td>\n",
       "      <td>United States</td>\n",
       "      <td>SO43699</td>\n",
       "      <td>3399.9900</td>\n",
       "      <td>271.9992</td>\n",
       "      <td>84.9998</td>\n",
       "    </tr>\n",
       "    <tr>\n",
       "      <th>3</th>\n",
       "      <td>336</td>\n",
       "      <td>Road-650 Black, 62</td>\n",
       "      <td>Road Bikes</td>\n",
       "      <td>20101229</td>\n",
       "      <td>2010</td>\n",
       "      <td>Southwest</td>\n",
       "      <td>United States</td>\n",
       "      <td>SO43700</td>\n",
       "      <td>699.0982</td>\n",
       "      <td>55.9279</td>\n",
       "      <td>17.4775</td>\n",
       "    </tr>\n",
       "    <tr>\n",
       "      <th>4</th>\n",
       "      <td>346</td>\n",
       "      <td>Mountain-100 Silver, 44</td>\n",
       "      <td>Mountain Bikes</td>\n",
       "      <td>20101229</td>\n",
       "      <td>2010</td>\n",
       "      <td>Australia</td>\n",
       "      <td>Australia</td>\n",
       "      <td>SO43701</td>\n",
       "      <td>3399.9900</td>\n",
       "      <td>271.9992</td>\n",
       "      <td>84.9998</td>\n",
       "    </tr>\n",
       "  </tbody>\n",
       "</table>\n",
       "</div>"
      ],
      "text/plain": [
       "   ProductKey                  product product_subcategory  OrderDateKey  \\\n",
       "0         310         Road-150 Red, 62          Road Bikes      20101229   \n",
       "1         346  Mountain-100 Silver, 44      Mountain Bikes      20101229   \n",
       "2         346  Mountain-100 Silver, 44      Mountain Bikes      20101229   \n",
       "3         336       Road-650 Black, 62          Road Bikes      20101229   \n",
       "4         346  Mountain-100 Silver, 44      Mountain Bikes      20101229   \n",
       "\n",
       "   CalendarYear SalesTerritoryRegion SalesTerritoryCountry SalesOrderNumber  \\\n",
       "0          2010               Canada                Canada          SO43697   \n",
       "1          2010               France                France          SO43698   \n",
       "2          2010            Northwest         United States          SO43699   \n",
       "3          2010            Southwest         United States          SO43700   \n",
       "4          2010            Australia             Australia          SO43701   \n",
       "\n",
       "   SalesAmount    TaxAmt  Freight  \n",
       "0    3578.2700  286.2616  89.4568  \n",
       "1    3399.9900  271.9992  84.9998  \n",
       "2    3399.9900  271.9992  84.9998  \n",
       "3     699.0982   55.9279  17.4775  \n",
       "4    3399.9900  271.9992  84.9998  "
      ]
     },
     "execution_count": 3,
     "metadata": {},
     "output_type": "execute_result"
    }
   ],
   "source": [
    "df = pd.read_csv(r'C:\\Users\\llivi\\OneDrive\\Desktop\\web_sales.csv')\n",
    "df.head()"
   ]
  },
  {
   "cell_type": "code",
   "execution_count": 4,
   "id": "0d46d794",
   "metadata": {},
   "outputs": [
    {
     "data": {
      "application/vnd.microsoft.datawrangler.viewer.v0+json": {
       "columns": [
        {
         "name": "CalendarYear",
         "rawType": "int64",
         "type": "integer"
        },
        {
         "name": "SalesAmount",
         "rawType": "float64",
         "type": "float"
        }
       ],
       "ref": "d834422a-4b4f-49b5-8037-a37ff34e3b57",
       "rows": [
        [
         "2010",
         "3101.5026"
        ],
        [
         "2011",
         "3192.9268633122747"
        ],
        [
         "2012",
         "1719.8955534883721"
        ],
        [
         "2013",
         "309.68258820855664"
        ],
        [
         "2014",
         "23.195289340101525"
        ]
       ],
       "shape": {
        "columns": 1,
        "rows": 5
       }
      },
      "text/plain": [
       "CalendarYear\n",
       "2010    3101.502600\n",
       "2011    3192.926863\n",
       "2012    1719.895553\n",
       "2013     309.682588\n",
       "2014      23.195289\n",
       "Name: SalesAmount, dtype: float64"
      ]
     },
     "execution_count": 4,
     "metadata": {},
     "output_type": "execute_result"
    }
   ],
   "source": [
    "# average sales per year\n",
    "average_sale_per_year = df.groupby('CalendarYear')['SalesAmount'].mean()\n",
    "average_sale_per_year"
   ]
  },
  {
   "cell_type": "code",
   "execution_count": 5,
   "id": "354cb1a3",
   "metadata": {},
   "outputs": [
    {
     "name": "stdout",
     "output_type": "stream",
     "text": [
      "product                     CalendarYear\n",
      "AWC Logo Cap                2012               71.92\n",
      "                            2013            18870.01\n",
      "                            2014              746.17\n",
      "All-Purpose Bike Stand      2012              159.00\n",
      "                            2013            37683.00\n",
      "                                              ...   \n",
      "Women's Mountain Shorts, L  2014             1609.77\n",
      "Women's Mountain Shorts, M  2013            23376.66\n",
      "                            2014             1259.82\n",
      "Women's Mountain Shorts, S  2013            20227.11\n",
      "                            2014             1049.85\n",
      "Name: SalesAmount, Length: 271, dtype: float64\n"
     ]
    }
   ],
   "source": [
    "sum_of_sale_per_product_per_year = df.groupby(['product','CalendarYear'])['SalesAmount'].sum()\n",
    "print(sum_of_sale_per_product_per_year)"
   ]
  }
 ],
 "metadata": {
  "kernelspec": {
   "display_name": "Python 3",
   "language": "python",
   "name": "python3"
  },
  "language_info": {
   "codemirror_mode": {
    "name": "ipython",
    "version": 3
   },
   "file_extension": ".py",
   "mimetype": "text/x-python",
   "name": "python",
   "nbconvert_exporter": "python",
   "pygments_lexer": "ipython3",
   "version": "3.11.5"
  }
 },
 "nbformat": 4,
 "nbformat_minor": 5
}
